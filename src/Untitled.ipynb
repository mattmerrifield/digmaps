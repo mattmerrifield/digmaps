{
 "cells": [
  {
   "cell_type": "code",
   "execution_count": 5,
   "metadata": {},
   "outputs": [
    {
     "name": "stdout",
     "output_type": "stream",
     "text": [
      ".........\n",
      "100.........\n",
      "200.........\n",
      "300.........\n",
      "400.........\n",
      "500.........\n",
      "600.........\n",
      "700.........\n",
      "800.........\n",
      "900.........\n",
      "1000.........\n",
      "1100.........\n",
      "1200.........\n",
      "1300.........\n",
      "1400.........\n",
      "1500.........\n",
      "1600.........\n",
      "1700.........\n",
      "1800.........\n",
      "1900.........\n",
      "2000.........\n",
      "2100.........\n",
      "2200.........\n",
      "2300.........\n",
      "2400.........\n",
      "2500.........\n",
      "2600.........\n",
      "2700.........\n",
      "2800.........\n",
      "2900.........\n",
      "3000.........\n",
      "3100.........\n",
      "3200.........\n",
      "3300.........\n",
      "3400.........\n",
      "3500.........\n",
      "3600.........\n",
      "3700.........\n",
      "3800.........\n",
      "3900.........\n",
      "4000.........\n",
      "4100.........\n",
      "4200.........\n",
      "4300.........\n",
      "4400.........\n",
      "4500.........\n",
      "4600.........\n",
      "4700.........\n",
      "4800.........\n",
      "4900.........\n",
      "5000.........\n",
      "5100.........\n",
      "5200.........\n",
      "5300.........\n",
      "5400.........\n",
      "5500.........\n",
      "5600.........\n",
      "5700.........\n",
      "5800.........\n",
      "5900.........\n",
      "6000.........\n",
      "6100.........\n",
      "6200.........\n",
      "6300.........\n",
      "6400.........\n",
      "6500.........\n",
      "6600.........\n",
      "6700.........\n",
      "6800.........\n",
      "6900.........\n",
      "7000....."
     ]
    }
   ],
   "source": [
    "from importlib import reload\n",
    "from locations import parse_excel; reload(parse_excel)\n",
    "# sheets = parse_excel.parse_workbook('Amy_Database_DISS.xlsx')\n",
    "parse_excel.import_workbook('Amy_Database_DISS.xlsx')"
   ]
  },
  {
   "cell_type": "code",
   "execution_count": 3,
   "metadata": {},
   "outputs": [
    {
     "data": {
      "text/plain": [
       "(289301,\n",
       " {'locations.Site': 12014,\n",
       "  'locations.SiteFeature': 49021,\n",
       "  'locations.SiteFeature_periods': 0,\n",
       "  'locations.SitePeriod': 216252,\n",
       "  'locations.Site_references': 12014})"
      ]
     },
     "execution_count": 3,
     "metadata": {},
     "output_type": "execute_result"
    }
   ],
   "source": [
    "Site.objects.all().delete()"
   ]
  },
  {
   "cell_type": "code",
   "execution_count": 12,
   "metadata": {},
   "outputs": [
    {
     "data": {
      "text/plain": [
       "38"
      ]
     },
     "execution_count": 12,
     "metadata": {},
     "output_type": "execute_result"
    }
   ],
   "source": [
    "len(list(sheets)[0])"
   ]
  }
 ],
 "metadata": {
  "kernelspec": {
   "display_name": "Django Shell-Plus",
   "language": "python",
   "name": "django_extensions"
  },
  "language_info": {
   "codemirror_mode": {
    "name": "ipython",
    "version": 3
   },
   "file_extension": ".py",
   "mimetype": "text/x-python",
   "name": "python",
   "nbconvert_exporter": "python",
   "pygments_lexer": "ipython3",
   "version": "3.6.4"
  }
 },
 "nbformat": 4,
 "nbformat_minor": 2
}
